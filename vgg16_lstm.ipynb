{
 "cells": [
  {
   "cell_type": "code",
   "execution_count": null,
   "metadata": {},
   "outputs": [],
   "source": [
    "!rm -rfv sample_data"
   ]
  },
  {
   "cell_type": "markdown",
   "metadata": {},
   "source": [
    "### Mounting Repository\n",
    "\n",
    "Mount the repository to get all the data (directories and utilities files) ready to use."
   ]
  },
  {
   "cell_type": "code",
   "execution_count": null,
   "metadata": {},
   "outputs": [],
   "source": [
    "!git clone https://github.com/eternalbeginner/python-traditional-dance-video-classification.git\n",
    "!mv python-traditional-dance-video-classification/* .\n",
    "!rm -rfv python-traditional-dance-video-classification"
   ]
  },
  {
   "cell_type": "markdown",
   "metadata": {},
   "source": [
    "### Additional Dependencies Installation\n",
    "\n",
    "Install the necessary optional dependencies that may included in the project"
   ]
  },
  {
   "cell_type": "code",
   "execution_count": null,
   "metadata": {},
   "outputs": [],
   "source": [
    "!pip install -r requirements.txt --no-cache-dir"
   ]
  },
  {
   "cell_type": "markdown",
   "metadata": {},
   "source": [
    "### Mounting Google Drive\n",
    "\n",
    "Google drive need to be setup and mounted to this specific project. Using this code below to setup and mount the google drive."
   ]
  },
  {
   "cell_type": "code",
   "execution_count": null,
   "metadata": {},
   "outputs": [],
   "source": [
    "from google.colab import drive\n",
    "drive.mount('/content/drive')"
   ]
  },
  {
   "cell_type": "markdown",
   "id": "1bd7c8a6-0342-409d-b89d-717a94561372",
   "metadata": {},
   "source": [
    "### Initial Setup 🧑‍💻\n",
    "\n",
    "Setup the project, import the required dependencies"
   ]
  },
  {
   "cell_type": "code",
   "execution_count": null,
   "metadata": {},
   "outputs": [],
   "source": [
    "import os\n",
    "import warnings\n",
    "import time\n",
    "\n",
    "import numpy as np\n",
    "import matplotlib.pyplot as plt\n",
    "import pandas as pd\n",
    "import seaborn as sns\n",
    "\n",
    "import lib.helpers as helpers\n",
    "\n",
    "from lib.keras_video import VideoFrameGenerator\n",
    "\n",
    "from sklearn.metrics import confusion_matrix, classification_report, roc_curve, auc\n",
    "\n",
    "from tensorflow.keras.layers import GlobalAveragePooling2D, LSTM, Dense, Dropout, TimeDistributed\n",
    "from tensorflow.keras.models import Sequential\n",
    "from tensorflow.keras.callbacks import EarlyStopping, ModelCheckpoint\n",
    "from tensorflow.keras.applications.vgg16 import VGG16\n",
    "\n",
    "from IPython import get_ipython\n",
    "\n",
    "get_ipython().run_line_magic(\"matplotlib\", \"inline\")\n",
    "warnings.filterwarnings(\"ignore\")"
   ]
  },
  {
   "cell_type": "markdown",
   "id": "9e647c40-bc0d-4af7-8c95-bf0220a1537b",
   "metadata": {},
   "source": [
    "### Pre-Defining Global Variable\n",
    "\n",
    "Setup global variable to use in the entire file"
   ]
  },
  {
   "cell_type": "code",
   "execution_count": null,
   "metadata": {},
   "outputs": [],
   "source": [
    "DS = os.path.sep\n",
    "DATASET_DIR = \"/path/to/your/dataset_drive_dir\" # Change with the correct path to your dataset\n",
    "\n",
    "BATCH_SIZE = 2\n",
    "NB_COLOR_CHANNELS = 3\n",
    "NB_FRAMES = 30\n",
    "RESOLUTION = (224, 224)"
   ]
  },
  {
   "cell_type": "markdown",
   "id": "ce2e99ea-c85f-452f-a430-760f7ddc1cd8",
   "metadata": {},
   "source": [
    "### Generating Class Names & Glob Pattern\n",
    "\n",
    "Load all the file paths at the DATASET_DIR to generate the class names. Also, define glob pattern to get the dataset"
   ]
  },
  {
   "cell_type": "code",
   "execution_count": null,
   "metadata": {},
   "outputs": [],
   "source": [
    "class_names = helpers.get_generated_class_names(DATASET_DIR, \"train\")\n",
    "\n",
    "train_glob_pattern = helpers.get_generated_glob_pattern(DATASET_DIR, \"train\")\n",
    "test_glob_pattern = helpers.get_generated_glob_pattern(DATASET_DIR, \"test\");\n",
    "val_glob_pattern = helpers.get_generated_glob_pattern(DATASET_DIR, \"val\");\n"
   ]
  },
  {
   "cell_type": "markdown",
   "id": "0138dc52-4ea5-4e85-a317-fe9c26d6b529",
   "metadata": {},
   "source": [
    "### Dataset Setup\n",
    "\n",
    "Setup the dataset with `keras_video.VideoFrameGenerator` to do the dataset extraction"
   ]
  },
  {
   "cell_type": "code",
   "execution_count": null,
   "metadata": {},
   "outputs": [],
   "source": [
    "train_dataset_generator = VideoFrameGenerator(\n",
    "    batch_size=BATCH_SIZE,\n",
    "    classes=class_names,\n",
    "    glob_pattern=train_glob_pattern,\n",
    "    nb_channel=NB_COLOR_CHANNELS,\n",
    "    nb_frames=NB_FRAMES,\n",
    "    seed=42,\n",
    "    target_shape=RESOLUTION,\n",
    "    transformation=None,\n",
    "    use_frame_cache=False\n",
    ")"
   ]
  },
  {
   "cell_type": "code",
   "execution_count": null,
   "metadata": {},
   "outputs": [],
   "source": [
    "test_dataset_generator = VideoFrameGenerator(\n",
    "    batch_size=BATCH_SIZE,\n",
    "    classes=class_names,\n",
    "    glob_pattern=test_glob_pattern,\n",
    "    nb_channel=NB_COLOR_CHANNELS,\n",
    "    nb_frames=NB_FRAMES,\n",
    "    seed=42,\n",
    "    target_shape=RESOLUTION,\n",
    "    transformation=None,\n",
    "    use_frame_cache=False\n",
    ")"
   ]
  },
  {
   "cell_type": "code",
   "execution_count": null,
   "metadata": {},
   "outputs": [],
   "source": [
    "val_dataset_generator = VideoFrameGenerator(\n",
    "    batch_size=BATCH_SIZE,\n",
    "    classes=class_names,\n",
    "    glob_pattern=val_glob_pattern,\n",
    "    nb_channel=NB_COLOR_CHANNELS,\n",
    "    nb_frames=NB_FRAMES,\n",
    "    seed=42,\n",
    "    target_shape=RESOLUTION,\n",
    "    transformation=None,\n",
    "    use_frame_cache=False\n",
    ")"
   ]
  },
  {
   "cell_type": "code",
   "execution_count": null,
   "metadata": {},
   "outputs": [],
   "source": [
    "input_shape = (NB_FRAMES,) + RESOLUTION + (NB_COLOR_CHANNELS,)"
   ]
  },
  {
   "cell_type": "markdown",
   "id": "0f4555eb-20c8-475c-94e3-20539a364bfa",
   "metadata": {},
   "source": [
    "### Prepare `vgg16` Layer\n",
    "\n",
    "Preparing the configuration to create the `vgg16` layer to add to the created model"
   ]
  },
  {
   "cell_type": "code",
   "execution_count": null,
   "metadata": {},
   "outputs": [],
   "source": [
    "vgg16_model = VGG16(\n",
    "  include_top=False,\n",
    "  input_shape=input_shape[1:],\n",
    "  weights=\"imagenet\"\n",
    ")\n",
    "\n",
    "vgg16_model.trainable = False"
   ]
  },
  {
   "cell_type": "markdown",
   "id": "11cd363f-ac76-4ce1-a56a-4e46a8ac9ab4",
   "metadata": {},
   "source": [
    "### Model Creation\n",
    "\n",
    "Creating `Sequential` model and add `vgg16`, `lstm` and some other layers to the created model"
   ]
  },
  {
   "cell_type": "code",
   "execution_count": null,
   "metadata": {},
   "outputs": [],
   "source": [
    "model = Sequential()\n",
    "\n",
    "model.add(TimeDistributed(vgg16_model, input_shape=input_shape))\n",
    "model.add(TimeDistributed(GlobalAveragePooling2D()))\n",
    "model.add(LSTM(256))\n",
    "model.add(Dense(1024, activation=\"relu\"))\n",
    "model.add(Dropout(.2))\n",
    "model.add(Dense(int(len(class_names)), activation=\"softmax\"))\n",
    "\n",
    "model.summary()"
   ]
  },
  {
   "cell_type": "markdown",
   "id": "6dcc6aee-aa61-4805-8b5a-65f76a78a707",
   "metadata": {},
   "source": [
    "### Compiling & Fitting Setup\n",
    "\n",
    "Some setup configuration for compiling and fitting the model. Defining epochs, earlystopping, checkpoint, and callbacks."
   ]
  },
  {
   "cell_type": "code",
   "execution_count": null,
   "metadata": {},
   "outputs": [],
   "source": [
    "model_epochs = 25\n",
    "model_earlystopping = EarlyStopping(monitor=\"val_loss\", patience=3)\n",
    "model_checkpoint = ModelCheckpoint(\n",
    "    filepath=\"checkpoint/vgg16_lstm-{epoch:02d}-{val_loss:.2f}.h5\",\n",
    "    mode=\"min\",\n",
    "    monitor=\"val_loss\",\n",
    "    save_best_only=True,\n",
    "    verbose=1\n",
    ")\n",
    "\n",
    "model_callbacks = [model_earlystopping, model_checkpoint]"
   ]
  },
  {
   "cell_type": "markdown",
   "id": "adafba19-c904-4376-9f27-79d85cf5460e",
   "metadata": {},
   "source": [
    "### Model Compile\n",
    "\n",
    "Compiling model with pre-defined configuration"
   ]
  },
  {
   "cell_type": "code",
   "execution_count": null,
   "metadata": {},
   "outputs": [],
   "source": [
    "model.compile(\n",
    "  loss=\"categorical_crossentropy\",\n",
    "  metrics=[\"acc\"],\n",
    "  optimizer=\"adam\"\n",
    ")"
   ]
  },
  {
   "cell_type": "markdown",
   "id": "a34c8472-3564-4429-84d4-48ab13632755",
   "metadata": {},
   "source": [
    "### Model Training/Fitting\n",
    "\n",
    "Fit the model with real dataset with defined epochs and callbacks"
   ]
  },
  {
   "cell_type": "code",
   "execution_count": null,
   "metadata": {},
   "outputs": [],
   "source": [
    "start_time = time.time()\n",
    "\n",
    "model_history = model.fit(\n",
    "    train_dataset_generator,\n",
    "    callbacks=model_callbacks,\n",
    "    epochs=model_epochs,\n",
    "    validation_data=val_dataset_generator\n",
    ")\n",
    "\n",
    "end_time = time.time()\n",
    "exec_time = end_time - start_time\n",
    "\n",
    "print(\"Fitting execution time : {}s\".format(exec_time))"
   ]
  },
  {
   "cell_type": "markdown",
   "id": "7e9d822e-33b9-4429-8169-56ceb8ce7dbd",
   "metadata": {},
   "source": [
    "### Save Model\n",
    "\n",
    "Saving model file into `model` directory"
   ]
  },
  {
   "cell_type": "code",
   "execution_count": null,
   "metadata": {},
   "outputs": [],
   "source": [
    "model.save(\"model/dance/vgg16-lstm-5e.h5\")"
   ]
  },
  {
   "cell_type": "markdown",
   "id": "39addeb6-7efe-43c6-b38b-fc0b8f23e865",
   "metadata": {},
   "source": [
    "### Acc Visualization\n",
    "\n",
    "Visualizing acc data with Matplotlib graph"
   ]
  },
  {
   "cell_type": "code",
   "execution_count": null,
   "metadata": {},
   "outputs": [],
   "source": [
    "helpers.get_visualized_graph(\n",
    "  plots=[model_history.history[\"acc\"], model_history.history[\"val_acc\"]],\n",
    "  title=\"Model Accuracy\",\n",
    "  x_label=\"Epoch\",\n",
    "  y_label=\"Accuracy\",\n",
    "  legend=[\"train\", \"test\"]\n",
    ").show()"
   ]
  },
  {
   "cell_type": "markdown",
   "id": "641f828d-52a6-4be1-bf9a-81dddfac9cd1",
   "metadata": {},
   "source": [
    "### Loss Visualization\n",
    "\n",
    "Visualizing loss data with Matplotlib graph"
   ]
  },
  {
   "cell_type": "code",
   "execution_count": null,
   "metadata": {},
   "outputs": [],
   "source": [
    "helpers.get_visualized_graph(\n",
    "  plots=[model_history.history[\"loss\"], model_history.history[\"val_loss\"]],\n",
    "  title=\"Model Loss\",\n",
    "  x_label=\"Epoch\",\n",
    "  y_label=\"Loss\",\n",
    "  legend=[\"train\", \"test\"]\n",
    ").show()"
   ]
  },
  {
   "cell_type": "markdown",
   "id": "482d50ed-f966-42f9-a407-3fe05d6a1455",
   "metadata": {},
   "source": [
    "### Export Dataframe From Model\n",
    "\n",
    "Export dataframe to `.csv` file from the model history via Pandas library"
   ]
  },
  {
   "cell_type": "code",
   "execution_count": null,
   "metadata": {},
   "outputs": [],
   "source": [
    "model_history_dataframe = pd.DataFrame(model_history.history)\n",
    "model_history_fpath = \"history/dance/vgg16-lstm-5e.csv\"\n",
    "\n",
    "with open(model_history_fpath, mode=\"w\") as history_file:\n",
    "    model_history_dataframe.to_csv(history_file)"
   ]
  },
  {
   "cell_type": "markdown",
   "id": "b6842666-03a7-44db-b30a-d21b5983510e",
   "metadata": {},
   "source": [
    "### Model Evaluation\n",
    "\n",
    "Evaluating model with test dataset"
   ]
  },
  {
   "cell_type": "code",
   "execution_count": null,
   "metadata": {},
   "outputs": [],
   "source": [
    "model.evaluate(test_dataset_generator)"
   ]
  },
  {
   "cell_type": "markdown",
   "id": "2e85e757-d57d-4dbd-8945-593c3e72b615",
   "metadata": {},
   "source": [
    "### Populate Y Data\n",
    "\n",
    "Populating Y's `prediction` and `test` data with test dataset"
   ]
  },
  {
   "cell_type": "code",
   "execution_count": null,
   "metadata": {},
   "outputs": [],
   "source": [
    "y_prediction_max, y_true = helpers.get_populated_y_data(\n",
    "    batch_size=BATCH_SIZE,\n",
    "    generator=test_dataset_generator,\n",
    "    model=model\n",
    ")"
   ]
  },
  {
   "cell_type": "markdown",
   "id": "883998d3-0340-4b76-8cfe-30681ead035c",
   "metadata": {},
   "source": [
    "### Score Visualization\n",
    "\n",
    "Visualizing some of calculated model score types, like `accuracy`, `precision`, `recall`, and `f1` score"
   ]
  },
  {
   "cell_type": "code",
   "execution_count": null,
   "metadata": {},
   "outputs": [],
   "source": [
    "score_accuracy, score_precision, score_recall, score_f1 = helpers.get_calculated_score(y_true, y_prediction_max)\n",
    "\n",
    "print(f\"Accuracy Score\\t: {np.round(score_accuracy, 3)}\")\n",
    "print(f\"Precision Score\\t: {np.round(score_precision, 3)}\")\n",
    "print(f\"Recall Score\\t: {np.round(score_recall, 3)}\")\n",
    "print(f\"F1 Score\\t: {np.round(score_f1, 3)}\")"
   ]
  },
  {
   "cell_type": "markdown",
   "id": "5fa689bf-dea3-4a90-a241-bfda48c409a6",
   "metadata": {},
   "source": [
    "### Classification Report Visualization\n",
    "\n",
    "Visualizing classification report of test dataset"
   ]
  },
  {
   "cell_type": "code",
   "execution_count": null,
   "metadata": {},
   "outputs": [],
   "source": [
    "test_class_names = test_dataset_generator.classes\n",
    "\n",
    "print(classification_report(\n",
    "    y_true,\n",
    "    y_prediction_max,\n",
    "    target_names=test_class_names\n",
    "))"
   ]
  },
  {
   "cell_type": "markdown",
   "id": "88c52bbb-ea6e-47b9-b32a-27458e5792b0",
   "metadata": {},
   "source": [
    "### Confusion Matrix Visualization\n",
    "\n",
    "Visualizing confusion matrix with heatmap table"
   ]
  },
  {
   "cell_type": "code",
   "execution_count": null,
   "metadata": {},
   "outputs": [],
   "source": [
    "confusion_matrix_result = confusion_matrix(y_true, y_prediction_max)\n",
    "\n",
    "sns.heatmap(\n",
    "    confusion_matrix_result,\n",
    "    annot=True,\n",
    "    cmap=\"Blues\"\n",
    ")"
   ]
  },
  {
   "cell_type": "markdown",
   "id": "e3cc50ab-f69f-4ba5-b1af-375c95a56c9a",
   "metadata": {},
   "source": [
    "### AUC Score Visualization\n",
    "\n",
    "Visualization of AUC score calculated with FPR and TPR"
   ]
  },
  {
   "cell_type": "code",
   "execution_count": null,
   "metadata": {},
   "outputs": [],
   "source": [
    "fpr, tpr, _ = roc_curve(y_true, y_prediction_max, pos_label=6)\n",
    "score_auc = auc(fpr, tpr)\n",
    "\n",
    "print(f\"AUC Score\\t: {np.round(score_auc, 3)}\")"
   ]
  },
  {
   "cell_type": "markdown",
   "id": "67e6fb24-3c5c-4a63-92dd-125159d877db",
   "metadata": {},
   "source": [
    "### True/False Positive Rate Visualization\n",
    "\n",
    "Visualizing `true`/`false` rate with Matplotlib graph calculated from FPR and TPR"
   ]
  },
  {
   "cell_type": "code",
   "execution_count": null,
   "metadata": {},
   "outputs": [],
   "source": [
    "plt.plot(fpr, tpr, marker=\".\")\n",
    "plt.plot([0, 1], [0, 1], color=\"navy\", linestyle=\"--\")\n",
    "\n",
    "plt.xlabel(\"False Positive Rate\")\n",
    "plt.ylabel(\"True Positive Rate\")\n",
    "\n",
    "plt.show()"
   ]
  },
  {
   "cell_type": "markdown",
   "id": "ccc9006e-33e9-4690-8563-cbe7bb4402d6",
   "metadata": {},
   "source": [
    "### Visualizing Checkpoint Model\n",
    "\n",
    "Visualizing all the score/calculated score from the checkpoint model"
   ]
  },
  {
   "cell_type": "code",
   "execution_count": null,
   "metadata": {},
   "outputs": [],
   "source": [
    "from tensorflow.keras.models import load_model\n",
    "\n",
    "checkpoint_model = load_model(\"checkpoint/vgg16-lstm.h5\")\n",
    "checkpoint_model.evaluate(test_dataset_generator)"
   ]
  },
  {
   "cell_type": "markdown",
   "id": "f4feea24-7170-43ba-8225-c8b58b654453",
   "metadata": {},
   "source": [
    "### Populate Y Data\n",
    "\n",
    "Populating checkpoint model Y's `prediction` and `test` data with test dataset"
   ]
  },
  {
   "cell_type": "code",
   "execution_count": null,
   "metadata": {},
   "outputs": [],
   "source": [
    "y_prediction_max, y_true = helpers.get_populated_y_data(\n",
    "    batch_size=BATCH_SIZE,\n",
    "    generator=test_dataset_generator,\n",
    "    model=model\n",
    ")"
   ]
  },
  {
   "cell_type": "markdown",
   "id": "4d143f10-70a6-43e6-8fae-941be3a3e9ca",
   "metadata": {},
   "source": [
    "### Score Visualization\n",
    "\n",
    "Visualizing some of calculated checkpoint model score types, like `accuracy`, `precision`, `recall`, and `f1` score"
   ]
  },
  {
   "cell_type": "code",
   "execution_count": null,
   "metadata": {},
   "outputs": [],
   "source": [
    "score_accuracy, score_precision, score_recall, score_f1 = helpers.get_calculated_score(y_true, y_prediction_max)\n",
    "\n",
    "print(f\"Accuracy Score\\t: {np.round(score_accuracy, 3)}\")\n",
    "print(f\"Precision Score\\t: {np.round(score_precision, 3)}\")\n",
    "print(f\"Recall Score\\t: {np.round(score_recall, 3)}\")\n",
    "print(f\"F1 Score\\t: {np.round(score_f1, 3)}\")"
   ]
  },
  {
   "cell_type": "markdown",
   "id": "0da6f90d-1d19-4539-a05f-2de57dd9fd29",
   "metadata": {},
   "source": [
    "### Classification Report Visualization\n",
    "\n",
    "Visualizing checkpoint model classification report of test dataset"
   ]
  },
  {
   "cell_type": "code",
   "execution_count": null,
   "metadata": {},
   "outputs": [],
   "source": [
    "test_class_names = test_dataset_generator.classes\n",
    "\n",
    "print(classification_report(\n",
    "    y_true,\n",
    "    y_prediction_max,\n",
    "    target_names=test_class_names\n",
    "))"
   ]
  },
  {
   "cell_type": "markdown",
   "id": "2ef84fa1-9e1a-40af-bd73-e5eab70e8f72",
   "metadata": {},
   "source": [
    "### Confusion Matrix Visualization\n",
    "\n",
    "Visualizing checkpoint model confusion matrix with heatmap table"
   ]
  },
  {
   "cell_type": "code",
   "execution_count": null,
   "metadata": {},
   "outputs": [],
   "source": [
    "confusion_matrix_result = confusion_matrix(y_true, y_prediction_max)\n",
    "\n",
    "sns.heatmap(\n",
    "    confusion_matrix_result,\n",
    "    annot=True,\n",
    "    cmap=\"Blues\"\n",
    ")"
   ]
  },
  {
   "cell_type": "markdown",
   "id": "231a5d94-09d9-4db2-a676-0ee3d43c0219",
   "metadata": {},
   "source": [
    "### AUC Score Visualization\n",
    "\n",
    "Visualization of checkpoint model AUC score calculated with FPR and TPR"
   ]
  },
  {
   "cell_type": "code",
   "execution_count": null,
   "metadata": {},
   "outputs": [],
   "source": [
    "fpr, tpr, _ = roc_curve(y_true, y_prediction_max, pos_label=6)\n",
    "score_auc = auc(fpr, tpr)\n",
    "\n",
    "print(f\"AUC Score\\t: {np.round(score_auc, 3)}\")"
   ]
  },
  {
   "cell_type": "markdown",
   "id": "486f4586-8fdb-4557-bf9a-ddc855709e83",
   "metadata": {},
   "source": [
    "### True/False Positive Rate Visualization\n",
    "\n",
    "Visualizing checkpoint model `true`/`false` rate with Matplotlib graph calculated from FPR and TPR"
   ]
  },
  {
   "cell_type": "code",
   "execution_count": null,
   "metadata": {},
   "outputs": [],
   "source": [
    "plt.plot(fpr, tpr, marker=\".\")\n",
    "plt.plot([0, 1], [0, 1], color=\"navy\", linestyle=\"--\")\n",
    "\n",
    "plt.xlabel(\"False Positive Rate\")\n",
    "plt.ylabel(\"True Positive Rate\")\n",
    "\n",
    "plt.show()"
   ]
  }
 ],
 "metadata": {
  "language_info": {
   "name": "python"
  },
  "orig_nbformat": 4
 },
 "nbformat": 4,
 "nbformat_minor": 2
}
