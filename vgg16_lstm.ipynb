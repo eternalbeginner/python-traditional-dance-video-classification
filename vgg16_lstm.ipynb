{
 "cells": [
  {
   "cell_type": "code",
   "execution_count": null,
   "metadata": {},
   "outputs": [],
   "source": [
    "!rm -rfv sample_data"
   ]
  },
  {
   "cell_type": "markdown",
   "metadata": {},
   "source": [
    "### Mounting Repository\n",
    "\n",
    "Mount the repository to get all the data (directories and utilities files) ready to use."
   ]
  },
  {
   "cell_type": "code",
   "execution_count": null,
   "metadata": {},
   "outputs": [],
   "source": [
    "!git clone https://github.com/eternalbeginner/python-traditional-dance-video-classification.git\n",
    "!mv python-traditional-dance-video-classification/* .\n",
    "!rm -rfv python-traditional-dance-video-classification"
   ]
  },
  {
   "cell_type": "markdown",
   "metadata": {},
   "source": [
    "### Additional Dependencies Installation\n",
    "\n",
    "Install the necessary optional dependencies that may included in the project"
   ]
  },
  {
   "cell_type": "code",
   "execution_count": null,
   "metadata": {},
   "outputs": [],
   "source": [
    "!pip install -r requirements.txt --no-cache-dir"
   ]
  },
  {
   "cell_type": "markdown",
   "metadata": {},
   "source": [
    "### Mounting Google Drive\n",
    "\n",
    "Google drive need to be setup and mounted to this specific project. Using this code below to setup and mount the google drive."
   ]
  },
  {
   "cell_type": "code",
   "execution_count": null,
   "metadata": {},
   "outputs": [],
   "source": [
    "from google.colab import drive\n",
    "drive.mount('/content/drive')"
   ]
  },
  {
   "cell_type": "markdown",
   "id": "1bd7c8a6-0342-409d-b89d-717a94561372",
   "metadata": {},
   "source": [
    "### Initial Setup 🧑‍💻\n",
    "\n",
    "Setup the project, import the required dependencies\n",
    "\n",
    "> Make sure the `lib` directory exists and include: `keras_video`, `i3d_inception.py`"
   ]
  },
  {
   "cell_type": "code",
   "execution_count": null,
   "metadata": {},
   "outputs": [],
   "source": [
    "import os\n",
    "import warnings\n",
    "\n",
    "import numpy as np\n",
    "import matplotlib.pyplot as plt\n",
    "import pandas as pd\n",
    "import seaborn as sns\n",
    "import virtualkeras as vk\n",
    "\n",
    "import lib.helpers as helpers\n",
    "\n",
    "from lib.keras_video import VideoFrameGenerator\n",
    "\n",
    "from sklearn.metrics import confusion_matrix, classification_report, roc_curve, auc\n",
    "\n",
    "from tensorflow.keras.layers import GlobalAveragePooling2D, LSTM, Dense, Dropout, TimeDistributed\n",
    "from tensorflow.keras.models import Sequential\n",
    "from tensorflow.keras.callbacks import EarlyStopping, ModelCheckpoint\n",
    "from tensorflow.keras.applications.vgg16 import VGG16\n",
    "\n",
    "from IPython import get_ipython\n",
    "\n",
    "get_ipython().run_line_magic(\"matplotlib\", \"inline\")\n",
    "warnings.filterwarnings(\"ignore\")"
   ]
  },
  {
   "cell_type": "code",
   "execution_count": null,
   "metadata": {},
   "outputs": [],
   "source": [
    "DS = os.path.sep\n",
    "DATASET_DIR = \"dataset\" # Change when necessary\n",
    "\n",
    "BATCH_SIZE = 2\n",
    "NB_COLOR_CHANNELS = 3\n",
    "NB_FRAMES = 30\n",
    "RESOLUTION = (224, 224)"
   ]
  },
  {
   "cell_type": "code",
   "execution_count": null,
   "metadata": {},
   "outputs": [],
   "source": [
    "class_names = helpers.get_generated_class_names(DATASET_DIR, \"train\")\n",
    "\n",
    "train_glob_pattern = helpers.get_generated_glob_pattern(DATASET_DIR, \"train\")\n",
    "test_glob_pattern = helpers.get_generated_glob_pattern(DATASET_DIR, \"test\");\n",
    "val_glob_pattern = helpers.get_generated_glob_pattern(DATASET_DIR, \"val\");\n"
   ]
  },
  {
   "cell_type": "code",
   "execution_count": null,
   "metadata": {},
   "outputs": [],
   "source": [
    "train_dataset_generator = VideoFrameGenerator(\n",
    "    batch_size=BATCH_SIZE,\n",
    "    classes=class_names,\n",
    "    glob_pattern=train_glob_pattern,\n",
    "    nb_channel=NB_COLOR_CHANNELS,\n",
    "    nb_frames=NB_FRAMES,\n",
    "    seed=42,\n",
    "    target_shape=RESOLUTION,\n",
    "    transformation=None,\n",
    "    use_frame_cache=False\n",
    ")"
   ]
  },
  {
   "cell_type": "code",
   "execution_count": null,
   "metadata": {},
   "outputs": [],
   "source": [
    "test_dataset_generator = VideoFrameGenerator(\n",
    "    batch_size=BATCH_SIZE,\n",
    "    classes=class_names,\n",
    "    glob_pattern=test_glob_pattern,\n",
    "    nb_channel=NB_COLOR_CHANNELS,\n",
    "    nb_frames=NB_FRAMES,\n",
    "    seed=42,\n",
    "    target_shape=RESOLUTION,\n",
    "    transformation=None,\n",
    "    use_frame_cache=False\n",
    ")"
   ]
  },
  {
   "cell_type": "code",
   "execution_count": null,
   "metadata": {},
   "outputs": [],
   "source": [
    "val_dataset_generator = VideoFrameGenerator(\n",
    "    batch_size=BATCH_SIZE,\n",
    "    classes=class_names,\n",
    "    glob_pattern=val_glob_pattern,\n",
    "    nb_channel=NB_COLOR_CHANNELS,\n",
    "    nb_frames=NB_FRAMES,\n",
    "    seed=42,\n",
    "    target_shape=RESOLUTION,\n",
    "    transformation=None,\n",
    "    use_frame_cache=False\n",
    ")"
   ]
  },
  {
   "cell_type": "code",
   "execution_count": null,
   "metadata": {},
   "outputs": [],
   "source": [
    "input_shape = (NB_FRAMES,) + RESOLUTION + (NB_COLOR_CHANNELS,)"
   ]
  },
  {
   "cell_type": "code",
   "execution_count": null,
   "metadata": {},
   "outputs": [],
   "source": [
    "vgg16_model = VGG16(\n",
    "  include_top=False,\n",
    "  input_shape=input_shape[1:],\n",
    "  weights=\"imagenet\"\n",
    ")\n",
    "\n",
    "vgg16_model.trainable = False"
   ]
  },
  {
   "cell_type": "code",
   "execution_count": null,
   "metadata": {},
   "outputs": [],
   "source": [
    "model = Sequential()\n",
    "\n",
    "model.add(TimeDistributed(vgg16_model, input_shape=input_shape))\n",
    "model.add(TimeDistributed(GlobalAveragePooling2D()))\n",
    "model.add(LSTM(256))\n",
    "model.add(Dense(1024, activation=\"relu\"))\n",
    "model.add(Dropout(.2))\n",
    "model.add(Dense(int(len(class_names)), activation=\"softmax\"))\n",
    "\n",
    "model.summary()"
   ]
  },
  {
   "cell_type": "code",
   "execution_count": null,
   "metadata": {},
   "outputs": [],
   "source": [
    "vk.layered_view(model).show()"
   ]
  },
  {
   "cell_type": "code",
   "execution_count": null,
   "metadata": {},
   "outputs": [],
   "source": [
    "model_epochs = 5 # Change when necessary\n",
    "model_earlystopping = EarlyStopping(monitor=\"loss\", patience=10)\n",
    "model_checkpoint = ModelCheckpoint(\n",
    "  filepath=\"checkpoint/vgg16-lstm.h5\",\n",
    "  mode=\"max\",\n",
    "  monitor=\"val_acc\",\n",
    "  save_best_only=True,\n",
    "  verbose=1\n",
    ")\n",
    "\n",
    "model_callbacks = [model_earlystopping, model_checkpoint]"
   ]
  },
  {
   "cell_type": "code",
   "execution_count": null,
   "metadata": {},
   "outputs": [],
   "source": [
    "model.compile(\n",
    "  loss=\"categorical_crossentropy\",\n",
    "  metrics=[\"acc\"],\n",
    "  optimizer=\"adam\"\n",
    ")"
   ]
  },
  {
   "cell_type": "code",
   "execution_count": null,
   "metadata": {},
   "outputs": [],
   "source": [
    "model_history = model.fit(\n",
    "    train_dataset_generator,\n",
    "    callbacks=model_callbacks,\n",
    "    epochs=model_epochs,\n",
    "    validation_data=val_dataset_generator\n",
    ")"
   ]
  },
  {
   "cell_type": "code",
   "execution_count": null,
   "metadata": {},
   "outputs": [],
   "source": [
    "model.save(\"model/dance/vgg16-lstm-5e.h5\")"
   ]
  },
  {
   "cell_type": "code",
   "execution_count": null,
   "metadata": {},
   "outputs": [],
   "source": [
    "helpers.get_visualized_graph(\n",
    "  plots=[model_history.history[\"acc\"], model_history.history[\"val_acc\"]],\n",
    "  title=\"Model Accuracy\",\n",
    "  x_label=\"Epoch\",\n",
    "  y_label=\"Accuracy\",\n",
    "  legend=[\"train\", \"test\"]\n",
    ").show()"
   ]
  },
  {
   "cell_type": "code",
   "execution_count": null,
   "metadata": {},
   "outputs": [],
   "source": [
    "helpers.get_visualized_graph(\n",
    "  plots=[model_history.history[\"loss\"], model_history.history[\"val_loss\"]],\n",
    "  title=\"Model Loss\",\n",
    "  x_label=\"Epoch\",\n",
    "  y_label=\"Loss\",\n",
    "  legend=[\"train\", \"test\"]\n",
    ").show()"
   ]
  },
  {
   "cell_type": "code",
   "execution_count": null,
   "metadata": {},
   "outputs": [],
   "source": [
    "model_history_dataframe = pd.DataFrame(model_history.history)\n",
    "model_history_fpath = \"history/dance/vgg16-lstm-5e.csv\"\n",
    "\n",
    "with open(model_history_fpath, mode=\"w\") as history_file:\n",
    "    model_history_dataframe.to_csv(history_file)"
   ]
  },
  {
   "cell_type": "code",
   "execution_count": null,
   "metadata": {},
   "outputs": [],
   "source": [
    "model.evaluate(test_dataset_generator)"
   ]
  },
  {
   "cell_type": "code",
   "execution_count": null,
   "metadata": {},
   "outputs": [],
   "source": [
    "y_prediction_max, y_true = helpers.get_populated_y_data(\n",
    "    batch_size=BATCH_SIZE,\n",
    "    generator=test_dataset_generator,\n",
    "    model=model\n",
    ")"
   ]
  },
  {
   "cell_type": "code",
   "execution_count": null,
   "metadata": {},
   "outputs": [],
   "source": [
    "score_accuracy, score_precision, score_recall, score_f1 = helpers.get_calculated_score(y_true, y_prediction_max)\n",
    "\n",
    "print(f\"Accuracy Score\\t: {np.round(score_accuracy, 3)}\")\n",
    "print(f\"Precision Score\\t: {np.round(score_precision, 3)}\")\n",
    "print(f\"Recall Score\\t: {np.round(score_recall, 3)}\")\n",
    "print(f\"F1 Score\\t: {np.round(score_f1, 3)}\")"
   ]
  },
  {
   "cell_type": "code",
   "execution_count": null,
   "metadata": {},
   "outputs": [],
   "source": [
    "test_class_names = test_dataset_generator.classes\n",
    "\n",
    "print(classification_report(\n",
    "    y_true,\n",
    "    y_prediction_max,\n",
    "    target_names=test_class_names\n",
    "))"
   ]
  },
  {
   "cell_type": "code",
   "execution_count": null,
   "metadata": {},
   "outputs": [],
   "source": [
    "confusion_matrix_result = confusion_matrix(y_true, y_prediction_max)\n",
    "\n",
    "sns.heatmap(\n",
    "    confusion_matrix_result,\n",
    "    annot=True,\n",
    "    cmap=\"Blues\"\n",
    ")"
   ]
  },
  {
   "cell_type": "code",
   "execution_count": null,
   "metadata": {},
   "outputs": [],
   "source": [
    "fpr, tpr, _ = roc_curve(y_true, y_prediction_max, pos_label=6)\n",
    "score_auc = auc(fpr, tpr)\n",
    "\n",
    "print(f\"AUC Score\\t: {np.round(score_auc, 3)}\")"
   ]
  },
  {
   "cell_type": "code",
   "execution_count": null,
   "metadata": {},
   "outputs": [],
   "source": [
    "plt.plot(fpr, tpr, marker=\".\")\n",
    "plt.plot([0, 1], [0, 1], color=\"navy\", linestyle=\"--\")\n",
    "\n",
    "plt.xlabel(\"False Positive Rate\")\n",
    "plt.ylabel(\"True Positive Rate\")\n",
    "\n",
    "plt.show()"
   ]
  },
  {
   "cell_type": "code",
   "execution_count": null,
   "metadata": {},
   "outputs": [],
   "source": [
    "from tensorflow.keras.models import load_model\n",
    "\n",
    "checkpoint_model = load_model(\"checkpoint/vgg16-lstm.h5\")\n",
    "checkpoint_model.evaluate(test_dataset_generator)"
   ]
  },
  {
   "cell_type": "code",
   "execution_count": null,
   "metadata": {},
   "outputs": [],
   "source": [
    "y_prediction_max, y_true = helpers.get_populated_y_data(\n",
    "    batch_size=BATCH_SIZE,\n",
    "    generator=test_dataset_generator,\n",
    "    model=model\n",
    ")"
   ]
  },
  {
   "cell_type": "code",
   "execution_count": null,
   "metadata": {},
   "outputs": [],
   "source": [
    "score_accuracy, score_precision, score_recall, score_f1 = helpers.get_calculated_score(y_true, y_prediction_max)\n",
    "\n",
    "print(f\"Accuracy Score\\t: {np.round(score_accuracy, 3)}\")\n",
    "print(f\"Precision Score\\t: {np.round(score_precision, 3)}\")\n",
    "print(f\"Recall Score\\t: {np.round(score_recall, 3)}\")\n",
    "print(f\"F1 Score\\t: {np.round(score_f1, 3)}\")"
   ]
  },
  {
   "cell_type": "code",
   "execution_count": null,
   "metadata": {},
   "outputs": [],
   "source": [
    "test_class_names = test_dataset_generator.classes\n",
    "\n",
    "print(classification_report(\n",
    "    y_true,\n",
    "    y_prediction_max,\n",
    "    target_names=test_class_names\n",
    "))"
   ]
  },
  {
   "cell_type": "code",
   "execution_count": null,
   "metadata": {},
   "outputs": [],
   "source": [
    "confusion_matrix_result = confusion_matrix(y_true, y_prediction_max)\n",
    "\n",
    "sns.heatmap(\n",
    "    confusion_matrix_result,\n",
    "    annot=True,\n",
    "    cmap=\"Blues\"\n",
    ")"
   ]
  },
  {
   "cell_type": "code",
   "execution_count": null,
   "metadata": {},
   "outputs": [],
   "source": [
    "fpr, tpr, _ = roc_curve(y_true, y_prediction_max, pos_label=6)\n",
    "score_auc = auc(fpr, tpr)\n",
    "\n",
    "print(f\"AUC Score\\t: {np.round(score_auc, 3)}\")"
   ]
  },
  {
   "cell_type": "code",
   "execution_count": null,
   "metadata": {},
   "outputs": [],
   "source": [
    "plt.plot(fpr, tpr, marker=\".\")\n",
    "plt.plot([0, 1], [0, 1], color=\"navy\", linestyle=\"--\")\n",
    "\n",
    "plt.xlabel(\"False Positive Rate\")\n",
    "plt.ylabel(\"True Positive Rate\")\n",
    "\n",
    "plt.show()"
   ]
  }
 ],
 "metadata": {
  "language_info": {
   "name": "python"
  },
  "orig_nbformat": 4
 },
 "nbformat": 4,
 "nbformat_minor": 2
}
